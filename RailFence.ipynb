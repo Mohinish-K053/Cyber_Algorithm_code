{
 "cells": [
  {
   "cell_type": "code",
   "execution_count": 1,
   "id": "1cfce369-1b3b-479f-ba79-0694cae0fff6",
   "metadata": {},
   "outputs": [
    {
     "name": "stdin",
     "output_type": "stream",
     "text": [
      "Enter text to encrypt:  mohinish\n",
      "Enter depth:  4\n"
     ]
    },
    {
     "name": "stdout",
     "output_type": "stream",
     "text": [
      "Encrypted text: msoihhni\n",
      "Decrypted text: mohinish\n"
     ]
    }
   ],
   "source": [
    "def rail_fence_enc(txt, depth):\n",
    "    rail = [['\\n' for _ in range(len(txt))] for _ in range(depth)]\n",
    "    row, step = 0, 1\n",
    "\n",
    "    for i in range(len(txt)):\n",
    "        rail[row][i] = txt[i]\n",
    "        if row == 0:\n",
    "            step = 1\n",
    "        elif row == depth - 1:\n",
    "            step = -1\n",
    "        row += step\n",
    "\n",
    "    encrypted_text = ''.join(char for row in rail for char in row if char != '\\n')\n",
    "    return encrypted_text\n",
    "\n",
    "def rail_fence_dec(enc_txt, depth):\n",
    "    rail = [['\\n' for _ in range(len(enc_txt))] for _ in range(depth)]\n",
    "    row, step = 0, 1\n",
    "\n",
    "    for i in range(len(enc_txt)):\n",
    "        rail[row][i] = '*'\n",
    "        if row == 0:\n",
    "            step = 1\n",
    "        elif row == depth - 1:\n",
    "            step = -1\n",
    "        row += step\n",
    "\n",
    "    index = 0\n",
    "    for r in range(depth):\n",
    "        for c in range(len(enc_txt)):\n",
    "            if rail[r][c] == '*' and index < len(enc_txt):\n",
    "                rail[r][c] = enc_txt[index]\n",
    "                index += 1\n",
    "\n",
    "    result = []\n",
    "    row, step = 0, 1\n",
    "    for i in range(len(enc_txt)):\n",
    "        result.append(rail[row][i])\n",
    "        if row == 0:\n",
    "            step = 1\n",
    "        elif row == depth - 1:\n",
    "            step = -1\n",
    "        row += step\n",
    "    \n",
    "    return ''.join(result)\n",
    "\n",
    "txt = input(\"Enter text to encrypt: \")\n",
    "depth = int(input(\"Enter depth: \"))\n",
    "\n",
    "encrypted = rail_fence_enc(txt, depth)\n",
    "print(\"Encrypted text:\", encrypted)\n",
    "\n",
    "decrypted = rail_fence_dec(encrypted, depth)\n",
    "print(\"Decrypted text:\", decrypted)\n"
   ]
  },
  {
   "cell_type": "code",
   "execution_count": null,
   "id": "f5a97884-f748-49f7-8d50-772618db9669",
   "metadata": {},
   "outputs": [],
   "source": []
  }
 ],
 "metadata": {
  "kernelspec": {
   "display_name": "Python [conda env:base] *",
   "language": "python",
   "name": "conda-base-py"
  },
  "language_info": {
   "codemirror_mode": {
    "name": "ipython",
    "version": 3
   },
   "file_extension": ".py",
   "mimetype": "text/x-python",
   "name": "python",
   "nbconvert_exporter": "python",
   "pygments_lexer": "ipython3",
   "version": "3.12.7"
  }
 },
 "nbformat": 4,
 "nbformat_minor": 5
}
