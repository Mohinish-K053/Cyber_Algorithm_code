{
 "cells": [
  {
   "cell_type": "code",
   "execution_count": null,
   "id": "862891b2-42a3-435c-aa3a-4784e2aeafc4",
   "metadata": {},
   "outputs": [],
   "source": [
    "import random\n",
    "\n",
    "def gen_keys():\n",
    "    p = 17\n",
    "    q = 23\n",
    "    n = p * q\n",
    "    phi_n = (p - 1) * (q - 1)\n",
    "    \n",
    "    e = random.randrange(2, phi_n)\n",
    "    while gcd(e, phi_n) != 1:\n",
    "        e = random.randrange(2, phi_n)\n",
    "\n",
    "    d = modInverse(e, phi_n)\n",
    "\n",
    "    return (e, n), (d, n)\n",
    "\n",
    "def gcd(a, b):\n",
    "    while b != 0:\n",
    "        a, b = b, a % b\n",
    "    return a\n",
    "\n",
    "def modInverse(e, phi_n):\n",
    "    for d in range(2, phi_n):\n",
    "        if (e * d) % phi_n == 1:\n",
    "            return d\n",
    "    return -1\n",
    "\n",
    "def encrypt(plaintext, public_key):\n",
    "    e, n = public_key\n",
    "    return [pow(ord(char), e, n) for char in plaintext]\n",
    "\n",
    "def decrypt(ciphertext, private_key):\n",
    "    d, n = private_key\n",
    "    return ''.join(chr(pow(char, d, n)) for char in ciphertext)\n",
    "\n",
    "public_key, private_key = gen_keys()\n",
    "message = input(\"Enter message to encrypt: \")\n",
    "cipher = encrypt(message, public_key)\n",
    "decrypted_message = decrypt(cipher, private_key)\n",
    "\n",
    "print(\"Public Key:\", public_key)\n",
    "print(\"Private Key:\", private_key)\n",
    "print(\"Cipher Text:\", cipher)\n",
    "print(\"Decrypted Text:\", decrypted_message)\n"
   ]
  },
  {
   "cell_type": "code",
   "execution_count": null,
   "id": "105aad00-9b07-403c-9483-75adc76fea07",
   "metadata": {},
   "outputs": [],
   "source": []
  }
 ],
 "metadata": {
  "kernelspec": {
   "display_name": "Python [conda env:base] *",
   "language": "python",
   "name": "conda-base-py"
  },
  "language_info": {
   "codemirror_mode": {
    "name": "ipython",
    "version": 3
   },
   "file_extension": ".py",
   "mimetype": "text/x-python",
   "name": "python",
   "nbconvert_exporter": "python",
   "pygments_lexer": "ipython3",
   "version": "3.12.7"
  }
 },
 "nbformat": 4,
 "nbformat_minor": 5
}
