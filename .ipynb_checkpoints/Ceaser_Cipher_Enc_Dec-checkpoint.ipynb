{
 "cells": [
  {
   "cell_type": "code",
   "execution_count": 1,
   "id": "c7051021-940b-431f-a0cc-e9d9c71f0a5a",
   "metadata": {},
   "outputs": [
    {
     "name": "stdin",
     "output_type": "stream",
     "text": [
      "Enter a text:  mohinish\n",
      "Enter shift value:  2\n"
     ]
    },
    {
     "name": "stdout",
     "output_type": "stream",
     "text": [
      "Encrypted text: oqjkpkuj\n"
     ]
    }
   ],
   "source": [
    "# Encryption Ceaser_Cipher\n",
    "def caesar_cipher_enc(txt, shift):\n",
    "    alphabet_lower = \"abcdefghijklmnopqrstuvwxyz\"\n",
    "    alphabet_upper = \"ABCDEFGHIJKLMNOPQRSTUVWXYZ\"\n",
    "    encrypted_text = \"\"\n",
    "\n",
    "    for char in txt:\n",
    "        if char.islower():\n",
    "            position = alphabet_lower.index(char)\n",
    "            new_pos = (position + shift) % 26\n",
    "            encrypted_text += alphabet_lower[new_pos]\n",
    "        elif char.isupper():\n",
    "            position = alphabet_upper.index(char)\n",
    "            new_pos = (position + shift) % 26\n",
    "            encrypted_text += alphabet_upper[new_pos]\n",
    "        else:\n",
    "            encrypted_text += char\n",
    "\n",
    "    return encrypted_text\n",
    "\n",
    "txt = input(\"Enter a text: \")\n",
    "shift = int(input(\"Enter shift value: \"))\n",
    "encrypted = caesar_cipher_enc(txt, shift)\n",
    "\n",
    "print(\"Encrypted text:\",encrypted)\n"
   ]
  },
  {
   "cell_type": "code",
   "execution_count": null,
   "id": "7be0ffc3-092c-4593-b44c-aafa015de161",
   "metadata": {},
   "outputs": [],
   "source": [
    "# Decryption Ceaser_Cipher\n",
    "def caesar_cipher_dec(txt, shift):\n",
    "    alphabet_lower = \"abcdefghijklmnopqrstuvwxyz\"\n",
    "    alphabet_upper = \"ABCDEFGHIJKLMNOPQRSTUVWXYZ\"\n",
    "    decrypted_text = \"\"\n",
    "\n",
    "    for char in txt:\n",
    "        if char.islower():\n",
    "            position = alphabet_lower.index(char)\n",
    "            new_pos = (position - shift) % 26\n",
    "            decrypted_text += alphabet_lower[new_pos]\n",
    "        elif char.isupper():\n",
    "            position = alphabet_upper.index(char)\n",
    "            new_pos = (position - shift) % 26\n",
    "            decrypted_text += alphabet_upper[new_pos]\n",
    "        else:\n",
    "            decrypted_text += char\n",
    "\n",
    "    return decrypted_text\n",
    "\n",
    "txt = input(\"Enter encrypted text: \")\n",
    "shift = int(input(\"Enter shift value: \"))\n",
    "decrypted = caesar_cipher_dec(txt, shift)\n",
    "\n",
    "print(\"Decrypted text:\",decrypted)\n"
   ]
  },
  {
   "cell_type": "code",
   "execution_count": null,
   "id": "6024af40-08bc-4a86-8592-103f77b70dbd",
   "metadata": {},
   "outputs": [],
   "source": []
  }
 ],
 "metadata": {
  "kernelspec": {
   "display_name": "Python [conda env:base] *",
   "language": "python",
   "name": "conda-base-py"
  },
  "language_info": {
   "codemirror_mode": {
    "name": "ipython",
    "version": 3
   },
   "file_extension": ".py",
   "mimetype": "text/x-python",
   "name": "python",
   "nbconvert_exporter": "python",
   "pygments_lexer": "ipython3",
   "version": "3.12.7"
  }
 },
 "nbformat": 4,
 "nbformat_minor": 5
}
