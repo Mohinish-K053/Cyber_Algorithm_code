{
 "cells": [
  {
   "cell_type": "code",
   "execution_count": null,
   "id": "bd3f2fad-396c-4cf0-8bd2-005fa40f5002",
   "metadata": {},
   "outputs": [],
   "source": [
    "def xor(a, b):\n",
    "    return bytes(i ^ j for i, j in zip(a, b))\n",
    "def feistel_round(data, key):\n",
    "    return xor(data, key)\n",
    "def des_encrypt(plaintext: bytes, key: bytes) -> bytes:\n",
    "    if len(key) != 8:\n",
    "        raise ValueError(\"Key must be exactly 8 bytes (64 bits)\")\n",
    "    left, right = plaintext[:4], plaintext[4:]\n",
    "    for _ in range(16):  # 16 rounds of encryption\n",
    "        new_right = xor(left, feistel_round(right, key))\n",
    "        left, right = right, new_right \n",
    "    return left + right\n",
    "def des_decrypt(ciphertext: bytes, key: bytes) -> bytes:\n",
    "    if len(key) != 8:\n",
    "        raise ValueError(\"Key must be exactly 8 bytes (64 bits)\") \n",
    "    left, right = ciphertext[:4], ciphertext[4:]\n",
    "    for _ in range(16):  # 16 rounds of decryption\n",
    "        new_left = xor(right, feistel_round(left, key))\n",
    "        right, left = left, new_left\n",
    "    \n",
    "    return left + right\n",
    "\n",
    "# User Input\n",
    "plaintext = input(\"Enter 8-character plaintext: \").encode()  # 64-bit (8 bytes) input\n",
    "key = input(\"Enter 8-character key: \").encode()            # 64-bit (8 bytes) key\n",
    "if len(plaintext) != 8 or len(key) != 8:\n",
    "    raise ValueError(\"Both plaintext and key must be exactly 8 characters long\")\n",
    "ciphertext = des_encrypt(plaintext, key)\n",
    "print(\"Ciphertext:\", ciphertext.hex())\n",
    "decrypted_text = des_decrypt(ciphertext, key)\n",
    "print(\"Decrypted Text:\", decrypted_text.decode())\n"
   ]
  },
  {
   "cell_type": "code",
   "execution_count": null,
   "id": "6436a4e2-879d-432a-b1a4-078838d33dab",
   "metadata": {},
   "outputs": [],
   "source": []
  }
 ],
 "metadata": {
  "kernelspec": {
   "display_name": "Python [conda env:base] *",
   "language": "python",
   "name": "conda-base-py"
  },
  "language_info": {
   "codemirror_mode": {
    "name": "ipython",
    "version": 3
   },
   "file_extension": ".py",
   "mimetype": "text/x-python",
   "name": "python",
   "nbconvert_exporter": "python",
   "pygments_lexer": "ipython3",
   "version": "3.12.7"
  }
 },
 "nbformat": 4,
 "nbformat_minor": 5
}
